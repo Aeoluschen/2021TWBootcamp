{
 "cells": [
  {
   "cell_type": "markdown",
   "metadata": {},
   "source": [
    "### Outlook\n",
    "* Stochastic Depth \n",
    "* Warm up \n",
    "* Label Smoothing \n",
    "* No Bias Weight Decay \n",
    "* Teacher-Student Knowledge Distillation \n",
    "* Mixup \n",
    "* Group Normalization \n",
    "* Weight Standardization "
   ]
  },
  {
   "cell_type": "markdown",
   "metadata": {},
   "source": [
    "---"
   ]
  },
  {
   "cell_type": "code",
   "execution_count": 1,
   "metadata": {},
   "outputs": [],
   "source": [
    "import torch\n",
    "import torch.nn as nn\n",
    "import torch.nn.functional as F"
   ]
  },
  {
   "cell_type": "markdown",
   "metadata": {},
   "source": [
    "#### Stochastic Depth"
   ]
  },
  {
   "cell_type": "code",
   "execution_count": 68,
   "metadata": {},
   "outputs": [],
   "source": [
    "class Bottleneck(nn.Module):\n",
    "    \"\"\"\n",
    "    Base class for bottlenecks that implements `forward()` method.\n",
    "    \"\"\"\n",
    "\n",
    "    def basic_forward(self, x):\n",
    "        residual = x\n",
    "        out = self.conv1(x)\n",
    "        out = self.bn1(out)\n",
    "        out = self.relu(out)\n",
    "\n",
    "        out = self.conv2(out)\n",
    "        out = self.bn2(out)\n",
    "        out = self.relu(out)\n",
    "\n",
    "        out = self.conv3(out)\n",
    "        out = self.bn3(out)\n",
    "        if self.downsample is not None:\n",
    "            residual = self.downsample(x)\n",
    "        out = self.se_module(out) + residual\n",
    "        out = self.relu(out)\n",
    "        return out\n",
    "\n",
    "    def forward(self, x):\n",
    "        if self.stochastic_depth and self.training:\n",
    "            run = torch.bernoulli(self.probability)\n",
    "        else:\n",
    "            run = 1\n",
    "            \n",
    "        if run:\n",
    "            x = self.basic_forward(X)\n",
    "\n",
    "            \n",
    "        return x\n",
    "            \n",
    "        \n",
    "\n",
    "            \n",
    "            \n",
    "class SEModule(nn.Module):\n",
    "    def __init__(self, channels, reduction):\n",
    "        super().__init__()\n",
    "        self.avg_pool = nn.AdaptiveAvgPool2d(1)\n",
    "        self.fc1 = nn.Conv2d(channels, channels // reduction, kernel_size=1, padding=0)\n",
    "\n",
    "\n",
    "        self.fc2 = nn.Conv2d(\n",
    "            channels // reduction, channels, kernel_size=1, padding=0\n",
    "        )\n",
    "\n",
    "        self.relu = nn.LeakyReLU(inplace=True)\n",
    "        self.sigmoid = nn.Sigmoid()\n",
    "\n",
    "    def forward(self, x):\n",
    "        module_input = x\n",
    "        x = self.avg_pool(x)\n",
    "        x = self.fc1(x)\n",
    "        x = self.relu(x)\n",
    "        x = self.fc2(x)\n",
    "        x = self.sigmoid(x)\n",
    "        return module_input * x\n",
    "    \n",
    "\n",
    "class SEBottleneck(Bottleneck):\n",
    "\n",
    "    expansion = 4\n",
    "\n",
    "    def __init__(\n",
    "        self,\n",
    "        inplanes,\n",
    "        planes,\n",
    "        groups,\n",
    "        reduction,\n",
    "        stride=1,\n",
    "        downsample=None,\n",
    "        stochastic_depth=True,\n",
    "        probability=1,\n",
    "    ):\n",
    "        super().__init__()\n",
    "        self.stochastic_depth = stochastic_depth\n",
    "        if not isinstance(probability, torch.Tensor):\n",
    "            probability = torch.tensor(probability)\n",
    "        self.probability = probability\n",
    "        self.conv1 = nn.Conv2d(inplanes, planes * 2, kernel_size=1, bias=False)\n",
    "        self.conv2 = nn.Conv2d(\n",
    "            planes * 2,\n",
    "            planes * 4,\n",
    "            kernel_size=3,\n",
    "            stride=stride,\n",
    "            padding=1,\n",
    "            groups=groups,\n",
    "            bias=False,\n",
    "        )\n",
    "        self.conv3 = nn.Conv2d(planes * 4, planes, kernel_size=1, bias=False)\n",
    "\n",
    "\n",
    "        self.bn1 = nn.BatchNorm2d(planes * 2)\n",
    "        self.bn2 = nn.BatchNorm2d(planes * 4)\n",
    "        self.bn3 = nn.BatchNorm2d(planes)\n",
    "\n",
    "        self.relu = nn.LeakyReLU(inplace=True)\n",
    "        self.se_module = SEModule(\n",
    "            planes,\n",
    "            reduction=reduction,)\n",
    "        self.downsample = downsample\n",
    "        self.stride = stride\n"
   ]
  },
  {
   "cell_type": "code",
   "execution_count": 69,
   "metadata": {},
   "outputs": [],
   "source": [
    "model = SEBottleneck(32, 32, 1, 4, probability=0.8).train()"
   ]
  },
  {
   "cell_type": "code",
   "execution_count": 79,
   "metadata": {},
   "outputs": [
    {
     "name": "stdout",
     "output_type": "stream",
     "text": [
      "skip\n"
     ]
    }
   ],
   "source": [
    "input_features = torch.randn(4, 32, 32, 32)\n",
    "ouptut = model(input_features)"
   ]
  },
  {
   "cell_type": "code",
   "execution_count": 82,
   "metadata": {},
   "outputs": [
    {
     "name": "stdout",
     "output_type": "stream",
     "text": [
      "0.8002899885177612\n"
     ]
    }
   ],
   "source": [
    "# bernoulli\n",
    "value = 0\n",
    "count = 100000\n",
    "for _ in range(count):\n",
    "    value += torch.bernoulli(torch.tensor(0.8))\n",
    "print((value / count).item())"
   ]
  },
  {
   "cell_type": "markdown",
   "metadata": {},
   "source": [
    "---"
   ]
  },
  {
   "cell_type": "markdown",
   "metadata": {},
   "source": [
    "#### Warm up "
   ]
  },
  {
   "cell_type": "code",
   "execution_count": 111,
   "metadata": {},
   "outputs": [],
   "source": [
    "import math\n",
    "\n",
    "from torch.optim import Optimizer\n",
    "\n",
    "## modify from source : https://github.com/Tony-Y/pytorch_warmup#radam-warmup\n",
    "\n",
    "\n",
    "class BaseWarmup:\n",
    "    \"\"\"Base class for all warmup schedules\n",
    "    Arguments:\n",
    "        optimizer (Optimizer): an instance of a subclass of Optimizer\n",
    "        warmup_params (list): warmup paramters\n",
    "        last_step (int): The index of last step. (Default: -1)\n",
    "    \"\"\"\n",
    "\n",
    "    def __init__(self, optimizer: Optimizer, warmup_params, last_step=-1):\n",
    "        self.optimizer = optimizer\n",
    "        self.warmup_params = warmup_params\n",
    "        self.last_step = last_step\n",
    "        self.step()\n",
    "\n",
    "    def state_dict(self):\n",
    "        \"\"\"Returns the state of the warmup scheduler as a :class:`dict`.\n",
    "        It contains an entry for every variable in self.__dict__ which\n",
    "        is not the optimizer.\n",
    "        \"\"\"\n",
    "        return {\n",
    "            key: value for key, value in self.__dict__.items() if key != \"optimizer\"\n",
    "        }\n",
    "\n",
    "    def load_state_dict(self, state_dict):\n",
    "        \"\"\"Loads the warmup scheduler's state.\n",
    "        Arguments:\n",
    "            state_dict (dict): warmup scheduler state. Should be an object returned\n",
    "                from a call to :meth:`state_dict`.\n",
    "        \"\"\"\n",
    "        self.__dict__.update(state_dict)\n",
    "\n",
    "    def step(self, step=None):\n",
    "        \"\"\"Dampen the learning rates.\n",
    "        Arguments:\n",
    "            step (int): The index of current step. (Default: None)\n",
    "        \"\"\"\n",
    "        if step is None:\n",
    "            step = self.last_step + 1\n",
    "        self.last_step = step\n",
    "\n",
    "        for group, params in zip(self.optimizer.param_groups, self.warmup_params):\n",
    "            omega = self.warmup_factor(step, **params)\n",
    "            group[\"lr\"] *= omega\n",
    "\n",
    "    def warmup_factor(self, step, **params):\n",
    "        raise NotImplementedError\n",
    "\n",
    "\n",
    "class ExponentialWarmup(BaseWarmup):\n",
    "    \"\"\"Exponential warmup schedule.\n",
    "    Arguments:\n",
    "        optimizer (Optimizer): an instance of a subclass of Optimizer\n",
    "        warmup_period (int or list): Effective warmup period\n",
    "        last_step (int): The index of last step. (Default: -1)\n",
    "    \"\"\"\n",
    "\n",
    "    def __init__(self, optimizer, warmup_period, last_step=-1):\n",
    "        group_count = len(optimizer.param_groups)\n",
    "        warmup_params = [dict(warmup_period=warmup_period) for _ in range(group_count)]\n",
    "        super().__init__(optimizer, warmup_params, last_step)\n",
    "\n",
    "    def warmup_factor(self, step, warmup_period):\n",
    "        # min(1.0, (step+1) / warmup_period)\n",
    "        return 1.0 - math.exp(-(step + 1) / warmup_period)"
   ]
  },
  {
   "cell_type": "code",
   "execution_count": 112,
   "metadata": {},
   "outputs": [],
   "source": [
    "from torchvision import models\n",
    "from torch import optim\n",
    "model = models.resnet18()"
   ]
  },
  {
   "cell_type": "code",
   "execution_count": 113,
   "metadata": {},
   "outputs": [],
   "source": [
    "num_steps = 1000\n",
    "optimizer = optim.Adam(model.parameters(), lr=0.001, betas=(0.9, 0.999), weight_decay=0.0001)\n",
    "lr_scheduler = optim.lr_scheduler.CosineAnnealingLR(optimizer, T_max=num_steps)\n",
    "warmup_scheduler = ExponentialWarmup(optimizer, warmup_period=num_steps // 10)"
   ]
  },
  {
   "cell_type": "code",
   "execution_count": 114,
   "metadata": {},
   "outputs": [],
   "source": [
    "lr_ = []\n",
    "for _ in range(num_steps):\n",
    "    lr_scheduler.step(lr_scheduler.last_epoch + 1)\n",
    "    warmup_scheduler.step()\n",
    "    lr_.append(optimizer.param_groups[0][\"lr\"])"
   ]
  },
  {
   "cell_type": "code",
   "execution_count": 115,
   "metadata": {},
   "outputs": [],
   "source": [
    "import matplotlib.pyplot as plt\n",
    "%matplotlib inline"
   ]
  },
  {
   "cell_type": "code",
   "execution_count": 116,
   "metadata": {},
   "outputs": [
    {
     "data": {
      "image/png": "[encoded data removed]",
      "text/plain": [
       "<Figure size 432x288 with 1 Axes>"
      ]
     },
     "metadata": {
      "needs_background": "light"
     },
     "output_type": "display_data"
    }
   ],
   "source": [
    "plt.plot(lr_)\n",
    "plt.show()"
   ]
  },
  {
   "cell_type": "markdown",
   "metadata": {},
   "source": [
    "---"
   ]
  },
  {
   "cell_type": "markdown",
   "metadata": {},
   "source": [
    "#### Label smoothing"
   ]
  },
  {
   "cell_type": "code",
   "execution_count": 121,
   "metadata": {},
   "outputs": [],
   "source": [
    "from typing import Union\n",
    "import numpy as np\n",
    "\n",
    "class LabelSmoothing(nn.Module):\n",
    "    def __init__(self, classes: int, smoothing: float = 0.1):\n",
    "        super().__init__()\n",
    "        assert 0 <= smoothing < 1\n",
    "        if not smoothing:\n",
    "            self.criterion_entropy = nn.CrossEntropyLoss()\n",
    "            print(\"Deactivated smoothing, apply CrossEntropyLoss.\")\n",
    "        else:\n",
    "            #batchmean\n",
    "            self.criterion = nn.KLDivLoss(reduction=\"batchmean\")\n",
    "            print(\"Activated smoothing, apply KLDivLoss.\")\n",
    "\n",
    "        self.classes = classes\n",
    "        self.smoothing = smoothing\n",
    "        self.confidence = 1 - smoothing\n",
    "\n",
    "    @torch.no_grad()\n",
    "    def convert_label_to_smooth(self, true_labels: torch.Tensor):\n",
    "        label_shape = torch.Size((true_labels.size(0), self.classes))\n",
    "        true_dist = torch.empty(size=label_shape, device=true_labels.device)\n",
    "        true_dist.fill_(self.smoothing / (self.classes - 1))\n",
    "        true_dist = true_dist.scatter_(1, true_labels.data, self.confidence)\n",
    "        return true_dist\n",
    "\n",
    "    def forward(\n",
    "        self, prediction: torch.Tensor, true_labels: Union[np.ndarray, torch.Tensor]\n",
    "    ):\n",
    "        \"\"\"\n",
    "        prediction  -> shape == [batch, self.classes]\n",
    "        true_labels -> shape == [batch, 1]\n",
    "        \"\"\"\n",
    "        if prediction.shape[1] != self.classes:\n",
    "            raise ValueError(\n",
    "                f\"Mismatch between prediction and specified class number, have pre-specified classes equal to {self.classes} while {prediction.shape[1]} in prediction\"\n",
    "            )\n",
    "        if not isinstance(true_labels, torch.Tensor):\n",
    "            true_labels = torch.tensor(true_labels, dtype=torch.long)\n",
    "        else:\n",
    "            true_labels = true_labels.type(torch.long)\n",
    "        if self.smoothing:\n",
    "            print(true_labels)\n",
    "            print(\"----------\")\n",
    "            true_labels = self.convert_label_to_smooth(true_labels.reshape(-1, 1))\n",
    "            print(\"convert to smooth\")\n",
    "            print(\"----------\")\n",
    "            print(true_labels)\n",
    "            prediction = prediction.log_softmax(-1)\n",
    "            loss = self.criterion(prediction, true_labels)\n",
    "        else:\n",
    "            loss = self.criterion_entropy(prediction, true_labels.reshape(-1))\n",
    "        return loss"
   ]
  },
  {
   "cell_type": "code",
   "execution_count": 122,
   "metadata": {},
   "outputs": [
    {
     "name": "stdout",
     "output_type": "stream",
     "text": [
      "Activated smoothing, apply KLDivLoss.\n"
     ]
    }
   ],
   "source": [
    "model = LabelSmoothing(5)"
   ]
  },
  {
   "cell_type": "code",
   "execution_count": 123,
   "metadata": {},
   "outputs": [],
   "source": [
    "prediction = torch.randn(4, 5)\n",
    "label = torch.tensor([0, 4, 3, 1]).reshape(4, 1)"
   ]
  },
  {
   "cell_type": "code",
   "execution_count": 124,
   "metadata": {},
   "outputs": [
    {
     "name": "stdout",
     "output_type": "stream",
     "text": [
      "tensor([[0],\n",
      "        [4],\n",
      "        [3],\n",
      "        [1]])\n",
      "----------\n",
      "convert to smooth\n",
      "----------\n",
      "tensor([[0.9000, 0.0250, 0.0250, 0.0250, 0.0250],\n",
      "        [0.0250, 0.0250, 0.0250, 0.0250, 0.9000],\n",
      "        [0.0250, 0.0250, 0.0250, 0.9000, 0.0250],\n",
      "        [0.0250, 0.9000, 0.0250, 0.0250, 0.0250]])\n"
     ]
    }
   ],
   "source": [
    "loss = model(prediction, label)"
   ]
  },
  {
   "cell_type": "code",
   "execution_count": 150,
   "metadata": {},
   "outputs": [],
   "source": [
    "ground_truth = torch.tensor([5], dtype=torch.long)\n",
    "raw_prediction = torch.tensor([0.4, 0.8, 20, 1, 2, 3], dtype=torch.float32).reshape(1, -1)"
   ]
  },
  {
   "cell_type": "code",
   "execution_count": 151,
   "metadata": {},
   "outputs": [
    {
     "data": {
      "text/plain": [
       "torch.Size([1, 6])"
      ]
     },
     "execution_count": 151,
     "metadata": {},
     "output_type": "execute_result"
    }
   ],
   "source": [
    "raw_prediction.shape"
   ]
  },
  {
   "cell_type": "code",
   "execution_count": 152,
   "metadata": {},
   "outputs": [
    {
     "name": "stdout",
     "output_type": "stream",
     "text": [
      "CrossEntropy : 17.0\n",
      "KLDivLoss : 17.0\n"
     ]
    }
   ],
   "source": [
    "import torch\n",
    "import torch.nn as nn\n",
    "ground_truth = torch.tensor([5], dtype=torch.long)\n",
    "raw_prediction = torch.tensor([0.4, 0.8, 20, 1, 2, 3], dtype=torch.float32).reshape(1, -1)\n",
    "\n",
    "criterion = nn.CrossEntropyLoss()\n",
    "loss = criterion(raw_prediction, ground_truth)\n",
    "print(f\"CrossEntropy : {loss}\")\n",
    "\n",
    "ground_truth = torch.tensor([0, 0, 0, 0, 0, 1], dtype=torch.float)\n",
    "raw_prediction = torch.tensor([0.4, 0.8, 20, 1, 2, 3], dtype=torch.float32).reshape(1, -1)\n",
    "prediction_log_softmax = F.log_softmax(raw_prediction, dim=-1)\n",
    "criterion = nn.KLDivLoss(reduction='batchmean')\n",
    "loss = criterion(prediction_log_softmax, ground_truth)\n",
    "print(f\"KLDivLoss : {loss}\")"
   ]
  },
  {
   "cell_type": "markdown",
   "metadata": {},
   "source": [
    "---"
   ]
  },
  {
   "cell_type": "markdown",
   "metadata": {},
   "source": [
    "#### No Bias Weight Decay"
   ]
  },
  {
   "cell_type": "code",
   "execution_count": 154,
   "metadata": {},
   "outputs": [],
   "source": [
    "def add_weight_decay(net, l2_value, skip_list=[]):\n",
    "    decay, conv_decay, no_decay =[], [], []\n",
    "    for name, param in net.named_parameters():\n",
    "        if not param.requires_grad:\n",
    "            continue  # skip frozen weights\n",
    "        # skip bias and bn layer\n",
    "        if name.endswith(\".bias\") or (\"_bn\" in name) or (name in skip_list):\n",
    "            no_decay.append(param)\n",
    "        elif (\"conv\" in name):\n",
    "            conv_decay.append(param)\n",
    "        else:\n",
    "            decay.append(param)\n",
    "    return [\n",
    "        {\"params\": no_decay, \"weight_decay\": 0.0},\n",
    "        {\"params\": conv_decay, \"weight_decay\": l2_value * 2},\n",
    "        {\"params\": decay, \"weight_decay\": l2_value},\n",
    "    ]"
   ]
  },
  {
   "cell_type": "code",
   "execution_count": 155,
   "metadata": {},
   "outputs": [],
   "source": [
    "model = models.resnet18()\n",
    "parameters = add_weight_decay(model, 0.00001)"
   ]
  },
  {
   "cell_type": "code",
   "execution_count": 156,
   "metadata": {},
   "outputs": [],
   "source": [
    "optimizer = optim.Adam(parameters, lr=0.001, betas=(0.9, 0.999),)\n"
   ]
  },
  {
   "cell_type": "code",
   "execution_count": 160,
   "metadata": {},
   "outputs": [],
   "source": [
    "optimizer = optim.Adam(parameters, lr=0.001, betas=(0.9, 0.999),)"
   ]
  },
  {
   "cell_type": "code",
   "execution_count": 157,
   "metadata": {},
   "outputs": [
    {
     "data": {
      "text/plain": [
       "0.0"
      ]
     },
     "execution_count": 157,
     "metadata": {},
     "output_type": "execute_result"
    }
   ],
   "source": [
    "parameters[0][\"weight_decay\"]"
   ]
  },
  {
   "cell_type": "code",
   "execution_count": 158,
   "metadata": {},
   "outputs": [
    {
     "data": {
      "text/plain": [
       "2e-05"
      ]
     },
     "execution_count": 158,
     "metadata": {},
     "output_type": "execute_result"
    }
   ],
   "source": [
    "parameters[1][\"weight_decay\"]"
   ]
  },
  {
   "cell_type": "code",
   "execution_count": 159,
   "metadata": {},
   "outputs": [
    {
     "data": {
      "text/plain": [
       "1e-05"
      ]
     },
     "execution_count": 159,
     "metadata": {},
     "output_type": "execute_result"
    }
   ],
   "source": [
    "parameters[2][\"weight_decay\"]"
   ]
  },
  {
   "cell_type": "markdown",
   "metadata": {},
   "source": [
    "---"
   ]
  },
  {
   "cell_type": "markdown",
   "metadata": {},
   "source": [
    "#### Mixup"
   ]
  },
  {
   "cell_type": "code",
   "execution_count": 161,
   "metadata": {},
   "outputs": [],
   "source": [
    "from torch.distributions.beta import Beta\n",
    "\n",
    "\n",
    "class Mixup(nn.Module):\n",
    "    def __init__(self, alpha: float = 0.2):\n",
    "        super().__init__()\n",
    "        self.alpha = alpha\n",
    "        self.criterion = nn.CrossEntropyLoss()\n",
    "        self.beta = Beta(alpha, alpha)\n",
    "\n",
    "    def __get_mixup_batch(\n",
    "        self, mini_batch_image: torch.Tensor, mini_batch_label: torch.Tensor\n",
    "    ):\n",
    "        lambda_ = self.beta.sample()\n",
    "        batch_size = mini_batch_image.shape[0]\n",
    "        shuffle = torch.randperm(batch_size)\n",
    "        shuffle_mini_batch_x = mini_batch_image[shuffle]\n",
    "        shuffle_mini_batch_y = mini_batch_label[shuffle]\n",
    "        mixup_x = lambda_ * mini_batch_image + (1 - lambda_) * shuffle_mini_batch_x\n",
    "        return (\n",
    "            mixup_x,\n",
    "            mini_batch_label.reshape(-1),\n",
    "            shuffle_mini_batch_y.reshape(-1),\n",
    "            lambda_,\n",
    "        )\n",
    "\n",
    "    def forward(\n",
    "        self,\n",
    "        model: nn.Module,\n",
    "        mini_batch_image: torch.Tensor,\n",
    "        mini_batch_label: torch.Tensor,\n",
    "    ):\n",
    "        \"\"\"\n",
    "        mini_batch_image -> shape == [batch, channel, height, width]\n",
    "        mini_batch_label -> shape == [batch, 1] or [batch]\n",
    "        \"\"\"\n",
    "        (\n",
    "            mixup_x,\n",
    "            mini_batch_label,\n",
    "            shuffle_mini_batch_y,\n",
    "            lambda_,\n",
    "        ) = self.__get_mixup_batch(mini_batch_image, mini_batch_label)\n",
    "        output = model(mixup_x)\n",
    "        loss = self.criterion(output, mini_batch_label) * lambda_ + (\n",
    "            1 - lambda_\n",
    "        ) * self.criterion(output, shuffle_mini_batch_y)\n",
    "        return mixup_x, loss"
   ]
  },
  {
   "cell_type": "code",
   "execution_count": 162,
   "metadata": {},
   "outputs": [],
   "source": [
    "trainer = Mixup()\n",
    "model = models.resnet18()"
   ]
  },
  {
   "cell_type": "code",
   "execution_count": 163,
   "metadata": {},
   "outputs": [],
   "source": [
    "mini_batch_image = torch.cat((torch.ones(3, 3, 64, 64) , torch.zeros(3, 3, 64, 64)), 0)\n",
    "mini_batch_label = torch.tensor([1, 1, 1, 0, 0, 0])"
   ]
  },
  {
   "cell_type": "code",
   "execution_count": 212,
   "metadata": {},
   "outputs": [
    {
     "data": {
      "image/png": "[encoded data removed]",
      "text/plain": [
       "<Figure size 432x288 with 6 Axes>"
      ]
     },
     "metadata": {
      "needs_background": "light"
     },
     "output_type": "display_data"
    }
   ],
   "source": [
    "image_, loss = trainer(model, mini_batch_image, mini_batch_label)\n",
    "for _ in range(6):\n",
    "    plt.subplot(231+_)\n",
    "    plt.title(round((image_[_].mean()).item(), 2))\n",
    "    plt.axis('off')\n",
    "    plt.imshow(image_[_].permute(1, 2, 0))\n",
    "plt.show()"
   ]
  },
  {
   "cell_type": "markdown",
   "metadata": {},
   "source": [
    "---"
   ]
  },
  {
   "cell_type": "markdown",
   "metadata": {},
   "source": [
    "#### Teacher-Student Knowledge Distillation"
   ]
  },
  {
   "cell_type": "code",
   "execution_count": 164,
   "metadata": {},
   "outputs": [],
   "source": [
    "from typing import Union\n",
    "\n",
    "import torch\n",
    "import torch.nn as nn\n",
    "\n",
    "\n",
    "class DistillationLoss(nn.Module):\n",
    "    def __init__(self, temperature: Union[int, float] = 2):\n",
    "        super().__init__()\n",
    "        self.criterion = nn.KLDivLoss(reduction=\"batchmean\")\n",
    "        self.temperature = temperature\n",
    "        self.softmax = nn.Softmax(1)\n",
    "        self.logsoftmax = nn.LogSoftmax(1)\n",
    "\n",
    "    def forward(self, student_output: torch.Tensor, teacher_output: torch.Tensor, label):\n",
    "        \"\"\"\n",
    "        student_output -> shape == [batch, class_number]\n",
    "        teacher_output -> shape == [batch, class_number]\n",
    "        \"\"\"\n",
    "\n",
    "        if student_output.shape != teacher_output.shape:\n",
    "            raise ValueError(\n",
    "                f\"Mismatch between student_output and teacher_output, got student_output : {student_output.shape} & teacher_output : {teacher_output.shape} respectively\"\n",
    "            )\n",
    "        student_output = self.logsoftmax(student_output / self.temperature)\n",
    "        teacher_output = self.softmax(teacher_output / self.temperature)\n",
    "        \n",
    "        hard_loss = self.Cross(student_output, label)\n",
    "\n",
    "        soft_loss = (\n",
    "            self.criterion(student_output, teacher_output)\n",
    "            * self.temperature\n",
    "            * self.temperature\n",
    "        )\n",
    "        loss = hard_loss * 0.8 + soft_loss * 0.2\n",
    "        return loss"
   ]
  },
  {
   "cell_type": "code",
   "execution_count": 165,
   "metadata": {},
   "outputs": [],
   "source": [
    "distill = DistillationLoss()"
   ]
  },
  {
   "cell_type": "code",
   "execution_count": 166,
   "metadata": {},
   "outputs": [],
   "source": [
    "student_output = torch.randn(32, 4)\n",
    "teacher_output = torch.randn(32, 4)\n",
    "loss = distill(student_output, teacher_output)"
   ]
  },
  {
   "cell_type": "markdown",
   "metadata": {},
   "source": [
    "---"
   ]
  },
  {
   "cell_type": "markdown",
   "metadata": {},
   "source": [
    "#### Weight Standardization "
   ]
  },
  {
   "cell_type": "code",
   "execution_count": 25,
   "metadata": {},
   "outputs": [],
   "source": [
    "class Conv2d(nn.Conv2d):\n",
    "\n",
    "    def __init__(self, in_channels, out_channels, kernel_size, stride=1,\n",
    "                 padding=0, dilation=1, groups=1, bias=True):\n",
    "        super(Conv2d, self).__init__(in_channels, out_channels, kernel_size, stride,\n",
    "                 padding, dilation, groups, bias)\n",
    "\n",
    "    def forward(self, x):\n",
    "        weight = self.weight\n",
    "        weight_mean = weight.mean(dim=1, keepdim=True).mean(dim=2,\n",
    "                                  keepdim=True).mean(dim=3, keepdim=True)\n",
    "        weight = weight - weight_mean\n",
    "        std = weight.view(weight.size(0), -1).std(dim=1).view(-1, 1, 1, 1) + 1e-5\n",
    "        weight = weight / std.expand_as(weight)\n",
    "        return F.conv2d(x, weight, self.bias, self.stride,\n",
    "                        self.padding, self.dilation, self.groups)"
   ]
  },
  {
   "cell_type": "code",
   "execution_count": 26,
   "metadata": {},
   "outputs": [],
   "source": [
    "model = Conv2d(12, 12, 3)\n",
    "output = model(torch.randn(1, 12 ,32, 32))"
   ]
  },
  {
   "cell_type": "markdown",
   "metadata": {},
   "source": [
    "---"
   ]
  },
  {
   "cell_type": "markdown",
   "metadata": {},
   "source": [
    "![](assets/GN.png)"
   ]
  },
  {
   "cell_type": "markdown",
   "metadata": {},
   "source": [
    "#### Group Normalization"
   ]
  },
  {
   "cell_type": "code",
   "execution_count": 168,
   "metadata": {},
   "outputs": [],
   "source": [
    "dummy_input = torch.randn(16, 10, 32, 32) # batch, channel, height, width (2, 1)"
   ]
  },
  {
   "cell_type": "code",
   "execution_count": null,
   "metadata": {},
   "outputs": [],
   "source": [
    "input_ = (16, 3, 32, 32) 2 ** 3"
   ]
  },
  {
   "cell_type": "code",
   "execution_count": null,
   "metadata": {},
   "outputs": [],
   "source": [
    "cnn_output = (16, 512 * 4, 4) , (16 b, 512 c, 4 time_step), (4, 16, 512) "
   ]
  },
  {
   "cell_type": "markdown",
   "metadata": {},
   "source": [
    "#### BN"
   ]
  },
  {
   "cell_type": "code",
   "execution_count": 169,
   "metadata": {},
   "outputs": [],
   "source": [
    "average_ = dummy_input.mean([0, 2, 3], keepdim=True)\n",
    "std_ = dummy_input.std([0, 2, 3], keepdim=True)\n",
    "normalization = (dummy_input - average_) / std_"
   ]
  },
  {
   "cell_type": "markdown",
   "metadata": {},
   "source": [
    "#### GN"
   ]
  },
  {
   "cell_type": "code",
   "execution_count": 171,
   "metadata": {},
   "outputs": [],
   "source": [
    "## 當N group == 1 時, GN == LN, 當 group == C 時, GN == IN\n",
    "n_group = 10\n",
    "dummy_input_copy = dummy_input.clone()\n",
    "b, c, h, w = dummy_input_copy.size()\n",
    "dummy_input_copy = dummy_input_copy.reshape(b, n_group, int(c / n_group), h, w)\n",
    "average_ = dummy_input_copy.mean([2, 3, 4], keepdim=True)\n",
    "std_ = dummy_input_copy.std([2, 3, 4], keepdim=True)\n",
    "normalization = (dummy_input_copy - average_) / std_\n",
    "normalization = normalization.reshape(b, c, h, w)"
   ]
  },
  {
   "cell_type": "code",
   "execution_count": null,
   "metadata": {},
   "outputs": [],
   "source": []
  }
 ],
 "metadata": {
  "kernelspec": {
   "display_name": "Python 3",
   "language": "python",
   "name": "python3"
  },
  "language_info": {
   "codemirror_mode": {
    "name": "ipython",
    "version": 3
   },
   "file_extension": ".py",
   "mimetype": "text/x-python",
   "name": "python",
   "nbconvert_exporter": "python",
   "pygments_lexer": "ipython3",
   "version": "3.7.4"
  }
 },
 "nbformat": 4,
 "nbformat_minor": 2
}
